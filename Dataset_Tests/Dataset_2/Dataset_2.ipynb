{
 "cells": [
  {
   "cell_type": "markdown",
   "id": "33104e5a-0d9c-45da-983d-0ac93b8f0f08",
   "metadata": {},
   "source": [
    "# Dataset 2: Disease Symptom Prediction\n",
    "\n",
    "- Classes: 41\n",
    "\n",
    "- Parameters: 132\n",
    "\n",
    "https://www.kaggle.com/datasets/kaushil268/disease-prediction-using-machine-learning?select=Training.csv\n",
    "\n",
    "Download dataset from the link above, and format it into the following folder structure:\n",
    "\n",
    "    Dataset_Tests\n",
    "\n",
    "        Dataset_1.ipynb\n",
    "\n",
    "        data\n",
    "\n",
    "            Training.csv\n",
    "            \n",
    "            Testing.csv"
   ]
  },
  {
   "cell_type": "code",
   "execution_count": null,
   "id": "944b619c-0f2c-4542-9df3-cc7a79d961c0",
   "metadata": {},
   "outputs": [],
   "source": []
  }
 ],
 "metadata": {
  "kernelspec": {
   "display_name": "Python 3 (ipykernel)",
   "language": "python",
   "name": "python3"
  },
  "language_info": {
   "codemirror_mode": {
    "name": "ipython",
    "version": 3
   },
   "file_extension": ".py",
   "mimetype": "text/x-python",
   "name": "python",
   "nbconvert_exporter": "python",
   "pygments_lexer": "ipython3",
   "version": "3.9.16"
  }
 },
 "nbformat": 4,
 "nbformat_minor": 5
}
