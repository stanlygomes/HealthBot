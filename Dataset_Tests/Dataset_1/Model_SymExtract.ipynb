{
 "cells": [
  {
   "cell_type": "code",
   "execution_count": 28,
   "id": "85d69c7b-1904-4f74-8d93-23b66ec658aa",
   "metadata": {},
   "outputs": [],
   "source": [
    "import numpy as np # linear algebra\n",
    "import pandas as pd # data processing, CSV file I/O (e.g. pd.read_csv)\n",
    "import seaborn as sb\n",
    "import matplotlib.pyplot as plt\n",
    "from warnings import filterwarnings\n",
    "filterwarnings(\"ignore\")\n",
    "from sklearn.model_selection import train_test_split\n",
    "from sklearn.tree import DecisionTreeClassifier\n",
    "from sklearn.ensemble import RandomForestClassifier\n",
    "from sklearn.metrics import accuracy_score"
   ]
  },
  {
   "cell_type": "code",
   "execution_count": 48,
   "id": "4ece7299-a291-4ba2-becc-f0ea0fd5a1ea",
   "metadata": {},
   "outputs": [],
   "source": [
    "train = pd.read_csv(\"data/Training.csv\")\n",
    "test = pd.read_csv(\"data/Testing.csv\")\n",
    "data_train = train\n",
    "data_test = test"
   ]
  },
  {
   "cell_type": "code",
   "execution_count": 49,
   "id": "39c868b0-4883-4992-85cf-605682ba905f",
   "metadata": {},
   "outputs": [
    {
     "data": {
      "text/html": [
       "<div>\n",
       "<style scoped>\n",
       "    .dataframe tbody tr th:only-of-type {\n",
       "        vertical-align: middle;\n",
       "    }\n",
       "\n",
       "    .dataframe tbody tr th {\n",
       "        vertical-align: top;\n",
       "    }\n",
       "\n",
       "    .dataframe thead th {\n",
       "        text-align: right;\n",
       "    }\n",
       "</style>\n",
       "<table border=\"1\" class=\"dataframe\">\n",
       "  <thead>\n",
       "    <tr style=\"text-align: right;\">\n",
       "      <th></th>\n",
       "      <th>itching</th>\n",
       "      <th>skin_rash</th>\n",
       "      <th>nodal_skin_eruptions</th>\n",
       "      <th>continuous_sneezing</th>\n",
       "      <th>shivering</th>\n",
       "      <th>chills</th>\n",
       "      <th>joint_pain</th>\n",
       "      <th>stomach_pain</th>\n",
       "      <th>acidity</th>\n",
       "      <th>ulcers_on_tongue</th>\n",
       "      <th>...</th>\n",
       "      <th>scurring</th>\n",
       "      <th>skin_peeling</th>\n",
       "      <th>silver_like_dusting</th>\n",
       "      <th>small_dents_in_nails</th>\n",
       "      <th>inflammatory_nails</th>\n",
       "      <th>blister</th>\n",
       "      <th>red_sore_around_nose</th>\n",
       "      <th>yellow_crust_ooze</th>\n",
       "      <th>prognosis</th>\n",
       "      <th>Unnamed: 133</th>\n",
       "    </tr>\n",
       "  </thead>\n",
       "  <tbody>\n",
       "    <tr>\n",
       "      <th>0</th>\n",
       "      <td>1</td>\n",
       "      <td>1</td>\n",
       "      <td>1</td>\n",
       "      <td>0</td>\n",
       "      <td>0</td>\n",
       "      <td>0</td>\n",
       "      <td>0</td>\n",
       "      <td>0</td>\n",
       "      <td>0</td>\n",
       "      <td>0</td>\n",
       "      <td>...</td>\n",
       "      <td>0</td>\n",
       "      <td>0</td>\n",
       "      <td>0</td>\n",
       "      <td>0</td>\n",
       "      <td>0</td>\n",
       "      <td>0</td>\n",
       "      <td>0</td>\n",
       "      <td>0</td>\n",
       "      <td>Fungal infection</td>\n",
       "      <td>NaN</td>\n",
       "    </tr>\n",
       "    <tr>\n",
       "      <th>1</th>\n",
       "      <td>0</td>\n",
       "      <td>1</td>\n",
       "      <td>1</td>\n",
       "      <td>0</td>\n",
       "      <td>0</td>\n",
       "      <td>0</td>\n",
       "      <td>0</td>\n",
       "      <td>0</td>\n",
       "      <td>0</td>\n",
       "      <td>0</td>\n",
       "      <td>...</td>\n",
       "      <td>0</td>\n",
       "      <td>0</td>\n",
       "      <td>0</td>\n",
       "      <td>0</td>\n",
       "      <td>0</td>\n",
       "      <td>0</td>\n",
       "      <td>0</td>\n",
       "      <td>0</td>\n",
       "      <td>Fungal infection</td>\n",
       "      <td>NaN</td>\n",
       "    </tr>\n",
       "    <tr>\n",
       "      <th>2</th>\n",
       "      <td>1</td>\n",
       "      <td>0</td>\n",
       "      <td>1</td>\n",
       "      <td>0</td>\n",
       "      <td>0</td>\n",
       "      <td>0</td>\n",
       "      <td>0</td>\n",
       "      <td>0</td>\n",
       "      <td>0</td>\n",
       "      <td>0</td>\n",
       "      <td>...</td>\n",
       "      <td>0</td>\n",
       "      <td>0</td>\n",
       "      <td>0</td>\n",
       "      <td>0</td>\n",
       "      <td>0</td>\n",
       "      <td>0</td>\n",
       "      <td>0</td>\n",
       "      <td>0</td>\n",
       "      <td>Fungal infection</td>\n",
       "      <td>NaN</td>\n",
       "    </tr>\n",
       "    <tr>\n",
       "      <th>3</th>\n",
       "      <td>1</td>\n",
       "      <td>1</td>\n",
       "      <td>0</td>\n",
       "      <td>0</td>\n",
       "      <td>0</td>\n",
       "      <td>0</td>\n",
       "      <td>0</td>\n",
       "      <td>0</td>\n",
       "      <td>0</td>\n",
       "      <td>0</td>\n",
       "      <td>...</td>\n",
       "      <td>0</td>\n",
       "      <td>0</td>\n",
       "      <td>0</td>\n",
       "      <td>0</td>\n",
       "      <td>0</td>\n",
       "      <td>0</td>\n",
       "      <td>0</td>\n",
       "      <td>0</td>\n",
       "      <td>Fungal infection</td>\n",
       "      <td>NaN</td>\n",
       "    </tr>\n",
       "    <tr>\n",
       "      <th>4</th>\n",
       "      <td>1</td>\n",
       "      <td>1</td>\n",
       "      <td>1</td>\n",
       "      <td>0</td>\n",
       "      <td>0</td>\n",
       "      <td>0</td>\n",
       "      <td>0</td>\n",
       "      <td>0</td>\n",
       "      <td>0</td>\n",
       "      <td>0</td>\n",
       "      <td>...</td>\n",
       "      <td>0</td>\n",
       "      <td>0</td>\n",
       "      <td>0</td>\n",
       "      <td>0</td>\n",
       "      <td>0</td>\n",
       "      <td>0</td>\n",
       "      <td>0</td>\n",
       "      <td>0</td>\n",
       "      <td>Fungal infection</td>\n",
       "      <td>NaN</td>\n",
       "    </tr>\n",
       "  </tbody>\n",
       "</table>\n",
       "<p>5 rows × 134 columns</p>\n",
       "</div>"
      ],
      "text/plain": [
       "   itching  skin_rash  nodal_skin_eruptions  continuous_sneezing  shivering  \\\n",
       "0        1          1                     1                    0          0   \n",
       "1        0          1                     1                    0          0   \n",
       "2        1          0                     1                    0          0   \n",
       "3        1          1                     0                    0          0   \n",
       "4        1          1                     1                    0          0   \n",
       "\n",
       "   chills  joint_pain  stomach_pain  acidity  ulcers_on_tongue  ...  scurring  \\\n",
       "0       0           0             0        0                 0  ...         0   \n",
       "1       0           0             0        0                 0  ...         0   \n",
       "2       0           0             0        0                 0  ...         0   \n",
       "3       0           0             0        0                 0  ...         0   \n",
       "4       0           0             0        0                 0  ...         0   \n",
       "\n",
       "   skin_peeling  silver_like_dusting  small_dents_in_nails  \\\n",
       "0             0                    0                     0   \n",
       "1             0                    0                     0   \n",
       "2             0                    0                     0   \n",
       "3             0                    0                     0   \n",
       "4             0                    0                     0   \n",
       "\n",
       "   inflammatory_nails  blister  red_sore_around_nose  yellow_crust_ooze  \\\n",
       "0                   0        0                     0                  0   \n",
       "1                   0        0                     0                  0   \n",
       "2                   0        0                     0                  0   \n",
       "3                   0        0                     0                  0   \n",
       "4                   0        0                     0                  0   \n",
       "\n",
       "          prognosis  Unnamed: 133  \n",
       "0  Fungal infection           NaN  \n",
       "1  Fungal infection           NaN  \n",
       "2  Fungal infection           NaN  \n",
       "3  Fungal infection           NaN  \n",
       "4  Fungal infection           NaN  \n",
       "\n",
       "[5 rows x 134 columns]"
      ]
     },
     "execution_count": 49,
     "metadata": {},
     "output_type": "execute_result"
    }
   ],
   "source": [
    "train[:5]"
   ]
  },
  {
   "cell_type": "code",
   "execution_count": 50,
   "id": "a1374718-7b45-40fa-87d8-59c99c44a0cf",
   "metadata": {},
   "outputs": [],
   "source": [
    "data_train = data_train.drop([\"Unnamed: 133\"],axis=1)"
   ]
  },
  {
   "cell_type": "code",
   "execution_count": 51,
   "id": "cbed1030-df56-4b4c-ae4a-700e906d07f8",
   "metadata": {},
   "outputs": [
    {
     "data": {
      "text/plain": [
       "Fungal infection                           120\n",
       "Hepatitis C                                120\n",
       "Hepatitis E                                120\n",
       "Alcoholic hepatitis                        120\n",
       "Tuberculosis                               120\n",
       "Common Cold                                120\n",
       "Pneumonia                                  120\n",
       "Dimorphic hemmorhoids(piles)               120\n",
       "Heart attack                               120\n",
       "Varicose veins                             120\n",
       "Hypothyroidism                             120\n",
       "Hyperthyroidism                            120\n",
       "Hypoglycemia                               120\n",
       "Osteoarthristis                            120\n",
       "Arthritis                                  120\n",
       "(vertigo) Paroymsal  Positional Vertigo    120\n",
       "Acne                                       120\n",
       "Urinary tract infection                    120\n",
       "Psoriasis                                  120\n",
       "Hepatitis D                                120\n",
       "Hepatitis B                                120\n",
       "Allergy                                    120\n",
       "hepatitis A                                120\n",
       "GERD                                       120\n",
       "Chronic cholestasis                        120\n",
       "Drug Reaction                              120\n",
       "Peptic ulcer diseae                        120\n",
       "AIDS                                       120\n",
       "Diabetes                                   120\n",
       "Gastroenteritis                            120\n",
       "Bronchial Asthma                           120\n",
       "Hypertension                               120\n",
       "Migraine                                   120\n",
       "Cervical spondylosis                       120\n",
       "Paralysis (brain hemorrhage)               120\n",
       "Jaundice                                   120\n",
       "Malaria                                    120\n",
       "Chicken pox                                120\n",
       "Dengue                                     120\n",
       "Typhoid                                    120\n",
       "Impetigo                                   120\n",
       "Name: prognosis, dtype: int64"
      ]
     },
     "execution_count": 51,
     "metadata": {},
     "output_type": "execute_result"
    }
   ],
   "source": [
    "data_train.prognosis.value_counts()"
   ]
  },
  {
   "cell_type": "code",
   "execution_count": 52,
   "id": "c52ea562-46f7-4243-8880-c30363b47807",
   "metadata": {
    "id": "Sf50l9psPVav"
   },
   "outputs": [],
   "source": [
    "Y = data_train[[\"prognosis\"]]\n",
    "X = data_train.drop([\"prognosis\"], axis=1)\n",
    "Y_pred = data_test.drop([\"prognosis\"], axis=1)"
   ]
  },
  {
   "cell_type": "code",
   "execution_count": 53,
   "id": "07090209-e5d0-4ea6-9667-d1b738557870",
   "metadata": {
    "id": "ygKCXOn4P5bH"
   },
   "outputs": [],
   "source": [
    "from sklearn.model_selection import train_test_split\n",
    "X_train, X_test, y_train, y_test = train_test_split(X, Y, test_size=0.2, random_state=42)"
   ]
  },
  {
   "cell_type": "code",
   "execution_count": 54,
   "id": "ecade3b0-2776-4a59-bf17-c3a85deab7ce",
   "metadata": {
    "id": "iE02gw8jQkoX"
   },
   "outputs": [],
   "source": [
    "classifier = DecisionTreeClassifier(random_state=42)\n",
    "disease_model = classifier.fit(X_train, y_train)"
   ]
  },
  {
   "cell_type": "code",
   "execution_count": 56,
   "id": "fe77d021-4153-49df-b884-79163d7bd123",
   "metadata": {
    "colab": {
     "base_uri": "https://localhost:8080/"
    },
    "id": "vLspJBuGSjr0",
    "outputId": "31312960-24e7-41cb-d223-f5fe056e1ce8"
   },
   "outputs": [
    {
     "name": "stdout",
     "output_type": "stream",
     "text": [
      "testing accuracy is: 1.0\n"
     ]
    }
   ],
   "source": [
    "test_pred = disease_model.predict(X_test)\n",
    "print(\"testing accuracy is:\",accuracy_score(y_test,test_pred))"
   ]
  },
  {
   "cell_type": "code",
   "execution_count": 37,
   "id": "1f33f699-6363-4ba2-86c9-82da78cf4e0d",
   "metadata": {
    "colab": {
     "base_uri": "https://localhost:8080/",
     "height": 154
    },
    "id": "faqUbcvmNANV",
    "outputId": "bebfca93-a9fe-487d-902f-f229753b7eb2"
   },
   "outputs": [
    {
     "data": {
      "text/html": [
       "<div>\n",
       "<style scoped>\n",
       "    .dataframe tbody tr th:only-of-type {\n",
       "        vertical-align: middle;\n",
       "    }\n",
       "\n",
       "    .dataframe tbody tr th {\n",
       "        vertical-align: top;\n",
       "    }\n",
       "\n",
       "    .dataframe thead th {\n",
       "        text-align: right;\n",
       "    }\n",
       "</style>\n",
       "<table border=\"1\" class=\"dataframe\">\n",
       "  <thead>\n",
       "    <tr style=\"text-align: right;\">\n",
       "      <th></th>\n",
       "      <th>itching</th>\n",
       "      <th>skin_rash</th>\n",
       "      <th>nodal_skin_eruptions</th>\n",
       "      <th>continuous_sneezing</th>\n",
       "      <th>shivering</th>\n",
       "      <th>chills</th>\n",
       "      <th>joint_pain</th>\n",
       "      <th>stomach_pain</th>\n",
       "      <th>acidity</th>\n",
       "      <th>ulcers_on_tongue</th>\n",
       "      <th>...</th>\n",
       "      <th>pus_filled_pimples</th>\n",
       "      <th>blackheads</th>\n",
       "      <th>scurring</th>\n",
       "      <th>skin_peeling</th>\n",
       "      <th>silver_like_dusting</th>\n",
       "      <th>small_dents_in_nails</th>\n",
       "      <th>inflammatory_nails</th>\n",
       "      <th>blister</th>\n",
       "      <th>red_sore_around_nose</th>\n",
       "      <th>yellow_crust_ooze</th>\n",
       "    </tr>\n",
       "  </thead>\n",
       "  <tbody>\n",
       "    <tr>\n",
       "      <th>4916</th>\n",
       "      <td>1</td>\n",
       "      <td>0</td>\n",
       "      <td>0</td>\n",
       "      <td>1</td>\n",
       "      <td>1</td>\n",
       "      <td>0</td>\n",
       "      <td>1</td>\n",
       "      <td>1</td>\n",
       "      <td>1</td>\n",
       "      <td>1</td>\n",
       "      <td>...</td>\n",
       "      <td>0</td>\n",
       "      <td>1</td>\n",
       "      <td>0</td>\n",
       "      <td>0</td>\n",
       "      <td>1</td>\n",
       "      <td>0</td>\n",
       "      <td>1</td>\n",
       "      <td>0</td>\n",
       "      <td>0</td>\n",
       "      <td>1</td>\n",
       "    </tr>\n",
       "  </tbody>\n",
       "</table>\n",
       "<p>1 rows × 132 columns</p>\n",
       "</div>"
      ],
      "text/plain": [
       "      itching  skin_rash  nodal_skin_eruptions  continuous_sneezing  \\\n",
       "4916        1          0                     0                    1   \n",
       "\n",
       "      shivering  chills  joint_pain  stomach_pain  acidity  ulcers_on_tongue  \\\n",
       "4916          1       0           1             1        1                 1   \n",
       "\n",
       "      ...  pus_filled_pimples  blackheads  scurring  skin_peeling  \\\n",
       "4916  ...                   0           1         0             0   \n",
       "\n",
       "      silver_like_dusting  small_dents_in_nails  inflammatory_nails  blister  \\\n",
       "4916                    1                     0                   1        0   \n",
       "\n",
       "      red_sore_around_nose  yellow_crust_ooze  \n",
       "4916                     0                  1  \n",
       "\n",
       "[1 rows x 132 columns]"
      ]
     },
     "execution_count": 37,
     "metadata": {},
     "output_type": "execute_result"
    }
   ],
   "source": [
    "#Creating a random row of values to perform model inference on\n",
    "\n",
    "import random\n",
    "\n",
    "inferenceRow = X_test.iloc[1:2, ]\n",
    "inferenceVal = y_test[1:2]\n",
    "for i in range(132):\n",
    "  inferenceRow.iloc[0:1, i] = random.randint(0, 1)\n",
    "# inferenceRow\n",
    "randomInference = inferenceRow\n",
    "randomInference"
   ]
  },
  {
   "cell_type": "code",
   "execution_count": 57,
   "id": "48e92703-f517-4861-9df7-fdd32bd50d59",
   "metadata": {
    "colab": {
     "base_uri": "https://localhost:8080/"
    },
    "id": "eJ9YfY9_TsbG",
    "outputId": "a0c16127-4a0e-4b00-8783-c2e3bde6c98e"
   },
   "outputs": [
    {
     "data": {
      "text/plain": [
       "array(['Hyperthyroidism'], dtype=object)"
      ]
     },
     "execution_count": 57,
     "metadata": {},
     "output_type": "execute_result"
    }
   ],
   "source": [
    "inferencePred = disease_model.predict(randomInference)\n",
    "inferencePred"
   ]
  },
  {
   "cell_type": "code",
   "execution_count": 64,
   "id": "8f362ce3-d492-4c91-ac44-a13d547085da",
   "metadata": {},
   "outputs": [],
   "source": [
    "import spacy\n",
    "nlp = spacy.load(\"en_core_web_sm\")"
   ]
  },
  {
   "cell_type": "code",
   "execution_count": 76,
   "id": "51ea43f5-be4a-4511-b22c-27398c18a8c1",
   "metadata": {},
   "outputs": [],
   "source": [
    "# Define input for model\n",
    "inp = \"I have a runny nose, cough, and sore throat\"\n",
    "lemmatized_text = \" \".join([token.lemma_ for token in nlp(inp)])"
   ]
  },
  {
   "cell_type": "code",
   "execution_count": 77,
   "id": "a2b2431f-0be2-4f76-90f2-fad03cc3a4a7",
   "metadata": {},
   "outputs": [
    {
     "name": "stdout",
     "output_type": "stream",
     "text": [
      "[('cough sore', 0.8432), ('sore throat', 0.8108), ('nose cough', 0.7859), ('runny nose', 0.7655), ('cough', 0.6732)]\n"
     ]
    }
   ],
   "source": [
    "# Use symptom extraction with keyBERT to get the symptoms from the text input\n",
    "from keybert import KeyBERT\n",
    "model = KeyBERT('distilbert-base-nli-mean-tokens')\n",
    "\n",
    "keywords = model.extract_keywords(lemmatized_text, keyphrase_ngram_range=(1, 2))\n",
    "print(keywords)"
   ]
  },
  {
   "cell_type": "code",
   "execution_count": 41,
   "id": "9550bbc5-fe0d-44df-b93c-90418cdca9ac",
   "metadata": {},
   "outputs": [
    {
     "name": "stdout",
     "output_type": "stream",
     "text": [
      "['cough', 'sore', 'runny', 'throat', 'nose']\n"
     ]
    }
   ],
   "source": [
    "words = [word for word, _ in keywords]\n",
    "print(words)"
   ]
  },
  {
   "cell_type": "code",
   "execution_count": 26,
   "id": "d29871fd-d97b-4b5e-896a-62aa8991379f",
   "metadata": {},
   "outputs": [
    {
     "data": {
      "text/html": [
       "<div>\n",
       "<style scoped>\n",
       "    .dataframe tbody tr th:only-of-type {\n",
       "        vertical-align: middle;\n",
       "    }\n",
       "\n",
       "    .dataframe tbody tr th {\n",
       "        vertical-align: top;\n",
       "    }\n",
       "\n",
       "    .dataframe thead th {\n",
       "        text-align: right;\n",
       "    }\n",
       "</style>\n",
       "<table border=\"1\" class=\"dataframe\">\n",
       "  <thead>\n",
       "    <tr style=\"text-align: right;\">\n",
       "      <th></th>\n",
       "      <th>itching</th>\n",
       "      <th>skin_rash</th>\n",
       "      <th>nodal_skin_eruptions</th>\n",
       "      <th>continuous_sneezing</th>\n",
       "      <th>shivering</th>\n",
       "      <th>chills</th>\n",
       "      <th>joint_pain</th>\n",
       "      <th>stomach_pain</th>\n",
       "      <th>acidity</th>\n",
       "      <th>ulcers_on_tongue</th>\n",
       "      <th>...</th>\n",
       "      <th>pus_filled_pimples</th>\n",
       "      <th>blackheads</th>\n",
       "      <th>scurring</th>\n",
       "      <th>skin_peeling</th>\n",
       "      <th>silver_like_dusting</th>\n",
       "      <th>small_dents_in_nails</th>\n",
       "      <th>inflammatory_nails</th>\n",
       "      <th>blister</th>\n",
       "      <th>red_sore_around_nose</th>\n",
       "      <th>yellow_crust_ooze</th>\n",
       "    </tr>\n",
       "  </thead>\n",
       "  <tbody>\n",
       "    <tr>\n",
       "      <th>0</th>\n",
       "      <td>0</td>\n",
       "      <td>0</td>\n",
       "      <td>0</td>\n",
       "      <td>0</td>\n",
       "      <td>0</td>\n",
       "      <td>0</td>\n",
       "      <td>0</td>\n",
       "      <td>0</td>\n",
       "      <td>0</td>\n",
       "      <td>0</td>\n",
       "      <td>...</td>\n",
       "      <td>0</td>\n",
       "      <td>0</td>\n",
       "      <td>0</td>\n",
       "      <td>0</td>\n",
       "      <td>0</td>\n",
       "      <td>0</td>\n",
       "      <td>0</td>\n",
       "      <td>0</td>\n",
       "      <td>0</td>\n",
       "      <td>0</td>\n",
       "    </tr>\n",
       "  </tbody>\n",
       "</table>\n",
       "<p>1 rows × 132 columns</p>\n",
       "</div>"
      ],
      "text/plain": [
       "   itching  skin_rash  nodal_skin_eruptions  continuous_sneezing  shivering  \\\n",
       "0        0          0                     0                    0          0   \n",
       "\n",
       "   chills  joint_pain  stomach_pain  acidity  ulcers_on_tongue  ...  \\\n",
       "0       0           0             0        0                 0  ...   \n",
       "\n",
       "   pus_filled_pimples  blackheads  scurring  skin_peeling  \\\n",
       "0                   0           0         0             0   \n",
       "\n",
       "   silver_like_dusting  small_dents_in_nails  inflammatory_nails  blister  \\\n",
       "0                    0                     0                   0        0   \n",
       "\n",
       "   red_sore_around_nose  yellow_crust_ooze  \n",
       "0                     0                  0  \n",
       "\n",
       "[1 rows x 132 columns]"
      ]
     },
     "execution_count": 42,
     "metadata": {},
     "output_type": "execute_result"
    }
   ],
   "source": [
    "# Make a symptoms dataframe that is in the format for the model\n",
    "zeros_df = pd.DataFrame({col: [0] for col in X_train.columns})\n",
    "zeros_df"
   ]
  },
  {
   "cell_type": "code",
   "execution_count": 62,
   "id": "7de9fd8d-6c48-4e56-a18c-1bacd02f7b21",
   "metadata": {},
   "outputs": [],
   "source": [
    "symptoms_list = X.columns.tolist()"
   ]
  },
  {
   "cell_type": "code",
   "execution_count": null,
   "id": "7961636d-0a55-46de-8b1d-1fd6d6564d4f",
   "metadata": {},
   "outputs": [],
   "source": [
    "# Make symptom synonyms list to check for synonyms/similar wording\n",
    "symptom_keywords = {\n",
    "    'itching': ['itch', 'pruritus', 'prickling', 'itchiness', 'tickling',\n",
    "                'scratching', 'scratch', 'tingling', 'tingle', 'tickle',\n",
    "                'prickle', 'crawling'],\n",
    "    'skin_rash': ['rash', 'dermatitis', 'eczema', 'redness', 'bumps',\n",
    "                  'lumps', 'lesions'],\n",
    "    '\n",
    "}"
   ]
  },
  {
   "cell_type": "code",
   "execution_count": 46,
   "id": "efd775fe-772c-41c6-93e2-2b8c54f1085f",
   "metadata": {},
   "outputs": [
    {
     "name": "stdout",
     "output_type": "stream",
     "text": [
      "cough was found in the list of labels as cough\n",
      "sore was found in the list of labels as red_sore_around_nose\n",
      "runny was found in the list of labels as runny_nose\n",
      "throat was found in the list of labels as patches_in_throat\n",
      "throat was found in the list of labels as throat_irritation\n",
      "nose was found in the list of labels as runny_nose\n",
      "nose was found in the list of labels as red_sore_around_nose\n"
     ]
    }
   ],
   "source": [
    "# Change the related symptoms to 1 if one of the keywords extracted are in a symptom name\n",
    "for word in words:\n",
    "  found = False\n",
    "  for label in symptoms_list:\n",
    "    if ((word == \"skin\") or (word == \"pain\") or (word == \"nails\")):\n",
    "      pass\n",
    "    elif word in label:\n",
    "      found = True\n",
    "      print(f\"{word} was found in the list of labels as {label}\")\n",
    "      zeros_df[label] = 1\n",
    "    else:\n",
    "      zeros_df[label] = 0\n",
    "  if not found:\n",
    "    print(f\"{word} was not found in the list of labels\")"
   ]
  },
  {
   "cell_type": "code",
   "execution_count": 58,
   "id": "5aaf5f42-c5d3-41e0-9cb3-8c83037cb6b5",
   "metadata": {},
   "outputs": [
    {
     "data": {
      "text/plain": [
       "array(['Arthritis'], dtype=object)"
      ]
     },
     "execution_count": 58,
     "metadata": {},
     "output_type": "execute_result"
    }
   ],
   "source": [
    "inferencePred = disease_model.predict(zeros_df)\n",
    "inferencePred"
   ]
  },
  {
   "cell_type": "code",
   "execution_count": 80,
   "id": "9462dc53-52d7-4577-9484-7f5b2c0ab4a8",
   "metadata": {},
   "outputs": [
    {
     "name": "stdout",
     "output_type": "stream",
     "text": [
      "['runny', 'nose', 'light', 'cough', 'sore', 'throat']\n"
     ]
    }
   ],
   "source": [
    "from keybert import KeyBERT\n",
    "import spacy\n",
    "\n",
    "nlp = spacy.load(\"en_core_web_sm\")\n",
    "model = KeyBERT('distilbert-base-nli-mean-tokens')\n",
    "\n",
    "def extract_keywords(text):\n",
    "    keywords = []\n",
    "    for token in nlp(text):\n",
    "        lemma = token.lemma_\n",
    "        if not lemma.isalpha(): # skip non-alphabetic characters\n",
    "            continue\n",
    "        keywords += [word for word, _ in model.extract_keywords(lemma, keyphrase_ngram_range=(1,2))]\n",
    "    return keywords\n",
    "\n",
    "text = \"I have a runny nose, light cough, and sore throat\"\n",
    "keywords = extract_keywords(text)\n",
    "print(keywords)"
   ]
  },
  {
   "cell_type": "code",
   "execution_count": 72,
   "id": "60f61a0e-4905-4f0c-8f4f-de69049e43d7",
   "metadata": {},
   "outputs": [
    {
     "name": "stdout",
     "output_type": "stream",
     "text": [
      "\n",
      "[x] No compatible package found for 'en_vectors_web_lg' (spaCy v3.4.4)\n",
      "\n"
     ]
    }
   ],
   "source": [
    "!python -m spacy download en_vectors_web_lg"
   ]
  },
  {
   "cell_type": "code",
   "execution_count": null,
   "id": "283b64a2-a158-4e7a-8ff9-49b0a8cb357a",
   "metadata": {},
   "outputs": [],
   "source": []
  }
 ],
 "metadata": {
  "kernelspec": {
   "display_name": "Python 3 (ipykernel)",
   "language": "python",
   "name": "python3"
  },
  "language_info": {
   "codemirror_mode": {
    "name": "ipython",
    "version": 3
   },
   "file_extension": ".py",
   "mimetype": "text/x-python",
   "name": "python",
   "nbconvert_exporter": "python",
   "pygments_lexer": "ipython3",
   "version": "3.9.12"
  }
 },
 "nbformat": 4,
 "nbformat_minor": 5
}
