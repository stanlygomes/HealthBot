{
 "cells": [
  {
   "cell_type": "markdown",
   "id": "cd9df5c0-0599-4e63-ab91-9ca14a32b01d",
   "metadata": {},
   "source": [
    "# TF-IDF (Term Frequency-Inverse Document Frequency)\n",
    "\n",
    "This keyword extraction's motivation is that importance of a term is inversely related to its frequency across documents.\n",
    "\n",
    "Pros: \n",
    "\n",
    "- Computationally cheap\n",
    "\n",
    "- Simplest to implement\n",
    "\n",
    "Cons:\n",
    "\n",
    "- Cannot carry semantic meaning"
   ]
  },
  {
   "cell_type": "code",
   "execution_count": 1,
   "id": "0b394b64-4e08-4548-9c79-3e04810cd055",
   "metadata": {},
   "outputs": [],
   "source": [
    "from sklearn.feature_extraction.text import TfidfVectorizer"
   ]
  },
  {
   "cell_type": "code",
   "execution_count": 16,
   "id": "e78becad-382f-4fd1-b35d-2aec52b6b345",
   "metadata": {},
   "outputs": [
    {
     "name": "stdin",
     "output_type": "stream",
     "text": [
      "How are you feeling? I have a sore throat, runny nose, and a headache.\n"
     ]
    }
   ],
   "source": [
    "inp = input(\"How are you feeling?\")"
   ]
  },
  {
   "cell_type": "code",
   "execution_count": 17,
   "id": "e884ab2e-2804-456d-956b-81e46ed9aa71",
   "metadata": {},
   "outputs": [
    {
     "name": "stdout",
     "output_type": "stream",
     "text": [
      "{'headache': 1.0, 'nose': 1.0, 'runny': 1.0, 'sore': 1.0, 'throat': 1.0}\n"
     ]
    }
   ],
   "source": [
    "# Initialize vectorizer\n",
    "vectorizer = TfidfVectorizer(max_features=5, stop_words='english')\n",
    "\n",
    "vectorizer.fit_transform([inp])\n",
    "features = vectorizer.get_feature_names_out()\n",
    "scores = vectorizer.idf_\n",
    "\n",
    "symptoms = dict(zip(features, scores))\n",
    "print(symptoms)"
   ]
  },
  {
   "cell_type": "code",
   "execution_count": null,
   "id": "65f57386-b8e2-4016-b5ad-3901a0eab104",
   "metadata": {},
   "outputs": [],
   "source": []
  }
 ],
 "metadata": {
  "kernelspec": {
   "display_name": "Python 3 (ipykernel)",
   "language": "python",
   "name": "python3"
  },
  "language_info": {
   "codemirror_mode": {
    "name": "ipython",
    "version": 3
   },
   "file_extension": ".py",
   "mimetype": "text/x-python",
   "name": "python",
   "nbconvert_exporter": "python",
   "pygments_lexer": "ipython3",
   "version": "3.9.12"
  }
 },
 "nbformat": 4,
 "nbformat_minor": 5
}
