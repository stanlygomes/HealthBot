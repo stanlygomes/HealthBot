{
 "cells": [
  {
   "cell_type": "markdown",
   "id": "bab3a068-2b60-4e0a-bb23-8aa58065033f",
   "metadata": {},
   "source": [
    "# TF-IDF (Term Frequency-Inverse Document Frequency)\n",
    "\n",
    "This keyword extraction's motivation is that importance of a term is inversely related to its frequency across documents.\n",
    "\n",
    "Pros: \n",
    "\n",
    "- Computationally cheap\n",
    "\n",
    "- Simplest to implement\n",
    "\n",
    "Cons:\n",
    "\n",
    "- Cannot carry semantic meaning"
   ]
  },
  {
   "cell_type": "code",
   "execution_count": 1,
   "id": "dabc7f36-1c4b-41a9-87f1-a811ea0a353a",
   "metadata": {},
   "outputs": [
    {
     "name": "stdin",
     "output_type": "stream",
     "text": [
      "Please tell me your symptoms:  runny nose, sore throat, dry cough\n"
     ]
    }
   ],
   "source": [
    "inp = input(\"Please tell me your symptoms: \")"
   ]
  },
  {
   "cell_type": "code",
   "execution_count": 2,
   "id": "5832c7c6-d0e8-48a9-9ebd-6cbf11ab9d0e",
   "metadata": {},
   "outputs": [
    {
     "data": {
      "text/plain": [
       "'runny nose, sore throat, dry cough'"
      ]
     },
     "execution_count": 2,
     "metadata": {},
     "output_type": "execute_result"
    }
   ],
   "source": [
    "inp"
   ]
  },
  {
   "cell_type": "code",
   "execution_count": null,
   "id": "d69abbce-3f56-4968-9119-2cda7c97e907",
   "metadata": {},
   "outputs": [],
   "source": []
  }
 ],
 "metadata": {
  "kernelspec": {
   "display_name": "Python 3 (ipykernel)",
   "language": "python",
   "name": "python3"
  },
  "language_info": {
   "codemirror_mode": {
    "name": "ipython",
    "version": 3
   },
   "file_extension": ".py",
   "mimetype": "text/x-python",
   "name": "python",
   "nbconvert_exporter": "python",
   "pygments_lexer": "ipython3",
   "version": "3.9.16"
  }
 },
 "nbformat": 4,
 "nbformat_minor": 5
}
