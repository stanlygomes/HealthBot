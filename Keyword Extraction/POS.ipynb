{
 "cells": [
  {
   "cell_type": "markdown",
   "id": "bab3a068-2b60-4e0a-bb23-8aa58065033f",
   "metadata": {},
   "source": [
    "# POS (Part-of-Speech)\n",
    "\n",
    "This keyword extraction method is performed by extracting words that are allowable POS tags. Here are a couple of examples:\n",
    "\n",
    "- Noun (NN): a word that represents a person, place, thing, or idea.\n",
    "\n",
    "- Verb (VB): a word that describes an action or occurrence.\n",
    "\n",
    "- Adjective (JJ): a word that describes a noun or pronoun.\n",
    "\n",
    "- Adverb (RB): a word that describes a verb, adjective, or other adverb.\n",
    "\n",
    "- Pronoun (PRP): a word that replaces a noun or noun phrase."
   ]
  },
  {
   "cell_type": "code",
   "execution_count": 3,
   "id": "dabc7f36-1c4b-41a9-87f1-a811ea0a353a",
   "metadata": {},
   "outputs": [
    {
     "name": "stdin",
     "output_type": "stream",
     "text": [
      "Please tell me your symptoms:  I have a sore throat, runny nose, and a headache\n"
     ]
    }
   ],
   "source": [
    "inp = input(\"Please tell me your symptoms: \")"
   ]
  },
  {
   "cell_type": "code",
   "execution_count": 20,
   "id": "d2b164b7-06f4-4798-ba5d-348f153afe51",
   "metadata": {},
   "outputs": [],
   "source": [
    "inp = inp.split(\" \")"
   ]
  },
  {
   "cell_type": "code",
   "execution_count": 27,
   "id": "0aebaa14-5089-4526-ac30-d90df806cf7a",
   "metadata": {},
   "outputs": [
    {
     "name": "stdout",
     "output_type": "stream",
     "text": [
      "['sore', 'throat', 'runny', 'nose', 'headache']\n"
     ]
    }
   ],
   "source": [
    "import nltk\n",
    "from nltk.tokenize import word_tokenize\n",
    "\n",
    "sentence = \"I have a sore throat, runny nose, and a headache.\"\n",
    "words = word_tokenize(sentence)\n",
    "\n",
    "# Get the Part-of-Speech (POS) tags for each word\n",
    "pos_tags = nltk.pos_tag(words)\n",
    "\n",
    "# Define the allowed POS tags for keywords (NN: singular noun, NNS: plural noun, JJ: adjective)\n",
    "allowed_tags = [\"NN\", \"NNS\", \"JJ\"]\n",
    "\n",
    "# Extract the keywords based on allowed POS tags\n",
    "keywords = [word for word, tag in pos_tags if tag in allowed_tags]\n",
    "\n",
    "print(keywords)"
   ]
  },
  {
   "cell_type": "code",
   "execution_count": null,
   "id": "aba87e63-b056-4782-bbbc-a91d7963b585",
   "metadata": {},
   "outputs": [],
   "source": []
  }
 ],
 "metadata": {
  "kernelspec": {
   "display_name": "Python 3 (ipykernel)",
   "language": "python",
   "name": "python3"
  },
  "language_info": {
   "codemirror_mode": {
    "name": "ipython",
    "version": 3
   },
   "file_extension": ".py",
   "mimetype": "text/x-python",
   "name": "python",
   "nbconvert_exporter": "python",
   "pygments_lexer": "ipython3",
   "version": "3.9.16"
  }
 },
 "nbformat": 4,
 "nbformat_minor": 5
}
