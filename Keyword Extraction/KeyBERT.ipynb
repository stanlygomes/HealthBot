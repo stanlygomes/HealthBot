{
 "cells": [
  {
   "cell_type": "markdown",
   "id": "34c352ff-45db-42b2-8121-b34a62ce6052",
   "metadata": {},
   "source": [
    "# KeyBERT (Keyword Extraction using Bidirectional Encoder Representations from Transformers)\n",
    "\n",
    "This keyword extraction technique used a pretrained BERT model to generate word embeddings and applies a cosine similarity step to find the most similar words in a given sentence. It is a more complex method than what TF-IDF performs since they have similar motivations"
   ]
  },
  {
   "cell_type": "code",
   "execution_count": 1,
   "id": "51b951e2-6018-4ee8-ac68-ee19e5aa0eba",
   "metadata": {},
   "outputs": [],
   "source": [
    "from keybert import KeyBERT"
   ]
  },
  {
   "cell_type": "code",
   "execution_count": 2,
   "id": "3b03a99d-0a0d-4941-9083-eb0c2aab5894",
   "metadata": {},
   "outputs": [
    {
     "name": "stdin",
     "output_type": "stream",
     "text": [
      "How are you feeling?: I have a sore throat, runny nose, and headache\n"
     ]
    }
   ],
   "source": [
    "text = input(\"How are you feeling?:\")"
   ]
  },
  {
   "cell_type": "code",
   "execution_count": 4,
   "id": "89a2ccf6-7d36-4eed-9bca-6bd093581f08",
   "metadata": {},
   "outputs": [
    {
     "name": "stdout",
     "output_type": "stream",
     "text": [
      "[('headache', 0.8086), ('sore', 0.6718), ('runny', 0.5005), ('throat', 0.4193), ('nose', 0.3986)]\n"
     ]
    }
   ],
   "source": [
    "model = KeyBERT('distilbert-base-nli-mean-tokens')\n",
    "\n",
    "keywords = model.extract_keywords(text)\n",
    "print(keywords)"
   ]
  },
  {
   "cell_type": "code",
   "execution_count": 5,
   "id": "a711f08e-feca-468e-90ab-531f7b779af6",
   "metadata": {},
   "outputs": [
    {
     "data": {
      "text/plain": [
       "[('headache', 0.8086),\n",
       " ('sore', 0.6718),\n",
       " ('runny', 0.5005),\n",
       " ('throat', 0.4193),\n",
       " ('nose', 0.3986)]"
      ]
     },
     "execution_count": 5,
     "metadata": {},
     "output_type": "execute_result"
    }
   ],
   "source": [
    "keywords"
   ]
  },
  {
   "cell_type": "code",
   "execution_count": 22,
   "id": "3dc524b2-bbf5-4d95-9c1b-91ae755c45ab",
   "metadata": {},
   "outputs": [
    {
     "data": {
      "text/plain": [
       "'sore'"
      ]
     },
     "execution_count": 22,
     "metadata": {},
     "output_type": "execute_result"
    }
   ],
   "source": [
    "keywords[1][0]"
   ]
  },
  {
   "cell_type": "code",
   "execution_count": null,
   "id": "af5039e7-79c3-422e-b508-bf23b181db90",
   "metadata": {},
   "outputs": [],
   "source": []
  }
 ],
 "metadata": {
  "kernelspec": {
   "display_name": "Python 3 (ipykernel)",
   "language": "python",
   "name": "python3"
  },
  "language_info": {
   "codemirror_mode": {
    "name": "ipython",
    "version": 3
   },
   "file_extension": ".py",
   "mimetype": "text/x-python",
   "name": "python",
   "nbconvert_exporter": "python",
   "pygments_lexer": "ipython3",
   "version": "3.9.12"
  }
 },
 "nbformat": 4,
 "nbformat_minor": 5
}
